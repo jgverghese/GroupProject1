{
 "cells": [
  {
   "cell_type": "code",
   "execution_count": 51,
   "metadata": {},
   "outputs": [],
   "source": [
    "#load modules\n",
    "# Dependencies and Setup\n",
    "import matplotlib.pyplot as plt\n",
    "import pandas as pd\n",
    "import scipy.stats as st\n",
    "import numpy as np\n",
    "import json \n",
    "import requests\n",
    "from config import api_key\n"
   ]
  },
  {
   "cell_type": "code",
   "execution_count": 52,
   "metadata": {},
   "outputs": [],
   "source": [
    "#BLS url\n",
    "endpoint = 'https://api.bls.gov/publicAPI/v2/timeseries/data/'\n",
    "\n",
    "#timeseries of monthly unemployment data to query\n",
    "series = ['LNS14000000','LNS14000006','LNS14000009','LNS14032183','LNS14000003','LNS13025703'] \n",
    "startyear = '2018'\n",
    "endyear = '2020'\n",
    "\n",
    "\n",
    "#setup json request\n",
    "headers = {'Content-type': 'application/json'}\n",
    "data = json.dumps(\n",
    "    {\"seriesid\": series,\n",
    "     \"registrationkey\": api_key,\n",
    "     \"startyear\":startyear, \n",
    "     \"endyear\":endyear})\n",
    "\n",
    "stat = requests.post(endpoint, data=data, headers=headers)\n",
    "stat_data = json.loads(stat.text)\n",
    "#stat = requests.post(endpoint, data=data, headers=headers)\n",
    "\n",
    "\n",
    "#setup lists to hold stats\n",
    "seriesid = []\n",
    "year= []\n",
    "period = []\n",
    "periodName = []\n",
    "value = []\n",
    "\n",
    "for series in stat_data['Results']['series']:\n",
    "    seriesId = series['seriesID']\n",
    "    for data in series['data']:\n",
    "        year.append(data['year'])\n",
    "        period.append(data['period'])\n",
    "        periodName.append(data['periodName'])\n",
    "        value.append(data['value'])\n",
    "        seriesid.append(series['seriesID'])\n",
    " "
   ]
  },
  {
   "cell_type": "code",
   "execution_count": 53,
   "metadata": {},
   "outputs": [
    {
     "data": {
      "text/html": [
       "<div>\n",
       "<style scoped>\n",
       "    .dataframe tbody tr th:only-of-type {\n",
       "        vertical-align: middle;\n",
       "    }\n",
       "\n",
       "    .dataframe tbody tr th {\n",
       "        vertical-align: top;\n",
       "    }\n",
       "\n",
       "    .dataframe thead th {\n",
       "        text-align: right;\n",
       "    }\n",
       "</style>\n",
       "<table border=\"1\" class=\"dataframe\">\n",
       "  <thead>\n",
       "    <tr style=\"text-align: right;\">\n",
       "      <th></th>\n",
       "      <th>Series</th>\n",
       "      <th>Year</th>\n",
       "      <th>Month Code</th>\n",
       "      <th>Month</th>\n",
       "      <th>Unemployment Rate</th>\n",
       "    </tr>\n",
       "  </thead>\n",
       "  <tbody>\n",
       "    <tr>\n",
       "      <th>0</th>\n",
       "      <td>LNS14000000</td>\n",
       "      <td>2020</td>\n",
       "      <td>M10</td>\n",
       "      <td>October</td>\n",
       "      <td>6.9</td>\n",
       "    </tr>\n",
       "    <tr>\n",
       "      <th>1</th>\n",
       "      <td>LNS14000000</td>\n",
       "      <td>2020</td>\n",
       "      <td>M09</td>\n",
       "      <td>September</td>\n",
       "      <td>7.9</td>\n",
       "    </tr>\n",
       "    <tr>\n",
       "      <th>2</th>\n",
       "      <td>LNS14000000</td>\n",
       "      <td>2020</td>\n",
       "      <td>M08</td>\n",
       "      <td>August</td>\n",
       "      <td>8.4</td>\n",
       "    </tr>\n",
       "    <tr>\n",
       "      <th>3</th>\n",
       "      <td>LNS14000000</td>\n",
       "      <td>2020</td>\n",
       "      <td>M07</td>\n",
       "      <td>July</td>\n",
       "      <td>10.2</td>\n",
       "    </tr>\n",
       "    <tr>\n",
       "      <th>4</th>\n",
       "      <td>LNS14000000</td>\n",
       "      <td>2020</td>\n",
       "      <td>M06</td>\n",
       "      <td>June</td>\n",
       "      <td>11.1</td>\n",
       "    </tr>\n",
       "  </tbody>\n",
       "</table>\n",
       "</div>"
      ],
      "text/plain": [
       "        Series  Year Month Code      Month Unemployment Rate\n",
       "0  LNS14000000  2020        M10    October               6.9\n",
       "1  LNS14000000  2020        M09  September               7.9\n",
       "2  LNS14000000  2020        M08     August               8.4\n",
       "3  LNS14000000  2020        M07       July              10.2\n",
       "4  LNS14000000  2020        M06       June              11.1"
      ]
     },
     "execution_count": 53,
     "metadata": {},
     "output_type": "execute_result"
    }
   ],
   "source": [
    "#create dataframe\n",
    "unemployment_df = pd.DataFrame({\n",
    "    \"Series\":seriesid,\n",
    "    \"Year\": year,\n",
    "    \"Month Code\": period,\n",
    "    \"Month\": periodName,\n",
    "    \"Unemployment Rate\": value\n",
    "})\n",
    "\n",
    "unemployment_df.head()"
   ]
  },
  {
   "cell_type": "code",
   "execution_count": 54,
   "metadata": {},
   "outputs": [
    {
     "data": {
      "text/plain": [
       "(        Series  Year Month Code     Month  Unemployment Rate   Mth/Year\n",
       " 0  LNS13025703  2018        M01   January               21.9 2018-01-01\n",
       " 1  LNS13025703  2018        M02  February               21.2 2018-02-01\n",
       " 2  LNS13025703  2018        M03     March               20.6 2018-03-01\n",
       " 3  LNS13025703  2018        M04     April               20.4 2018-04-01\n",
       " 4  LNS13025703  2018        M05       May               19.4 2018-05-01,\n",
       " 2.1,\n",
       " 32.5)"
      ]
     },
     "execution_count": 54,
     "metadata": {},
     "output_type": "execute_result"
    }
   ],
   "source": [
    "#Add combined Mth and Year column\n",
    "unemployment_df['Mth/Year'] = pd.to_datetime(unemployment_df['Month'].astype(str)+unemployment_df['Year'], format='%B%Y')\n",
    "\n",
    "#convert Unemployment Rate to numeric to get max and min\n",
    "unemployment_df['Unemployment Rate'] = pd.to_numeric(unemployment_df['Unemployment Rate'])\n",
    "\n",
    "#sort values\n",
    "unemployment_df = unemployment_df.sort_values(by=['Series','Mth/Year'], ascending=[True,True], inplace=False, ignore_index=True)\n",
    "\n",
    "#verify sort and check min, max\n",
    "unemployment_df.head(),unemployment_df['Unemployment Rate'].min(), unemployment_df['Unemployment Rate'].max()"
   ]
  },
  {
   "cell_type": "code",
   "execution_count": 55,
   "metadata": {},
   "outputs": [
    {
     "data": {
      "text/html": [
       "<div>\n",
       "<style scoped>\n",
       "    .dataframe tbody tr th:only-of-type {\n",
       "        vertical-align: middle;\n",
       "    }\n",
       "\n",
       "    .dataframe tbody tr th {\n",
       "        vertical-align: top;\n",
       "    }\n",
       "\n",
       "    .dataframe thead th {\n",
       "        text-align: right;\n",
       "    }\n",
       "</style>\n",
       "<table border=\"1\" class=\"dataframe\">\n",
       "  <thead>\n",
       "    <tr style=\"text-align: right;\">\n",
       "      <th></th>\n",
       "      <th>Series</th>\n",
       "      <th>Month Code</th>\n",
       "      <th>Unemployment Rate</th>\n",
       "      <th>Mth/Year</th>\n",
       "    </tr>\n",
       "  </thead>\n",
       "  <tbody>\n",
       "    <tr>\n",
       "      <th>0</th>\n",
       "      <td>LNS13025703</td>\n",
       "      <td>M01</td>\n",
       "      <td>21.9</td>\n",
       "      <td>2018-01-01</td>\n",
       "    </tr>\n",
       "    <tr>\n",
       "      <th>1</th>\n",
       "      <td>LNS13025703</td>\n",
       "      <td>M02</td>\n",
       "      <td>21.2</td>\n",
       "      <td>2018-02-01</td>\n",
       "    </tr>\n",
       "    <tr>\n",
       "      <th>2</th>\n",
       "      <td>LNS13025703</td>\n",
       "      <td>M03</td>\n",
       "      <td>20.6</td>\n",
       "      <td>2018-03-01</td>\n",
       "    </tr>\n",
       "    <tr>\n",
       "      <th>3</th>\n",
       "      <td>LNS13025703</td>\n",
       "      <td>M04</td>\n",
       "      <td>20.4</td>\n",
       "      <td>2018-04-01</td>\n",
       "    </tr>\n",
       "    <tr>\n",
       "      <th>4</th>\n",
       "      <td>LNS13025703</td>\n",
       "      <td>M05</td>\n",
       "      <td>19.4</td>\n",
       "      <td>2018-05-01</td>\n",
       "    </tr>\n",
       "  </tbody>\n",
       "</table>\n",
       "</div>"
      ],
      "text/plain": [
       "        Series Month Code  Unemployment Rate   Mth/Year\n",
       "0  LNS13025703        M01               21.9 2018-01-01\n",
       "1  LNS13025703        M02               21.2 2018-02-01\n",
       "2  LNS13025703        M03               20.6 2018-03-01\n",
       "3  LNS13025703        M04               20.4 2018-04-01\n",
       "4  LNS13025703        M05               19.4 2018-05-01"
      ]
     },
     "execution_count": 55,
     "metadata": {},
     "output_type": "execute_result"
    }
   ],
   "source": [
    "#drop Month and Year\n",
    "unemployment_df = unemployment_df.drop(['Year','Month'], axis=1)\n",
    "\n",
    "unemployment_df.head()"
   ]
  },
  {
   "cell_type": "code",
   "execution_count": 56,
   "metadata": {},
   "outputs": [],
   "source": [
    "#series description\n",
    "#'LNS14000000' is 'Unemployment Rate'\n",
    "#'LNS14000006' is 'Unemployment-AfricanAmerican'\n",
    "#'LNS14000009' is 'Unemployment-Hispanic'\n",
    "#'LNS14032183' is 'Unemployment-Asian'\n",
    "#'LNS14000003' is 'Unemployment-White'\n",
    "#'LNS13025703' is 'Long-Term Unemployment Rate'"
   ]
  },
  {
   "cell_type": "code",
   "execution_count": 57,
   "metadata": {},
   "outputs": [],
   "source": [
    "#Isolating the unemployment rate\n",
    "unerate = unemployment_df.loc[unemployment_df['Series'] == 'LNS14000000',:]\n",
    "uneafam = unemployment_df.loc[unemployment_df['Series'] == 'LNS14000006',:]\n",
    "unehisp = unemployment_df.loc[unemployment_df['Series'] == 'LNS14000009',:]\n",
    "uneasian = unemployment_df.loc[unemployment_df['Series'] =='LNS14032183',:]\n",
    "unewhite = unemployment_df.loc[unemployment_df['Series'] =='LNS14000003',:]\n",
    "ltunemp = unemployment_df.loc[unemployment_df['Series'] == 'LNS13025703',:]\n"
   ]
  },
  {
   "cell_type": "code",
   "execution_count": 60,
   "metadata": {
    "scrolled": true
   },
   "outputs": [
    {
     "data": {
      "image/png": "[encoded data removed]",
      "text/plain": [
       "<Figure size 432x288 with 1 Axes>"
      ]
     },
     "metadata": {
      "needs_background": "light"
     },
     "output_type": "display_data"
    },
    {
     "data": {
      "text/plain": [
       "<Figure size 1440x2160 with 0 Axes>"
      ]
     },
     "metadata": {},
     "output_type": "display_data"
    }
   ],
   "source": [
    "#line graph of x and y axis\n",
    "\n",
    "#setting x axis \n",
    "years = unerate['Mth/Year']\n",
    "\n",
    "#setting y axis \n",
    "total, = plt.plot(years, ltunemp['Unemployment Rate'], color='red', label = 'Long-Term Unemployment',linewidth =1) \n",
    "afam, = plt.plot(years, uneafam['Unemployment Rate'], color= 'orange', label = \"Unemployment=African American\", linewidth=2) \n",
    "hisp, = plt.plot(years, unehisp['Unemployment Rate'], color= 'blue', label = \"Unemployment=Hispanic/Latino\", linewidth=2) \n",
    "asian, = plt.plot(years, uneasian['Unemployment Rate'], color= 'green', label = \"Unemployment=Asian\", linewidth=2) \n",
    "white, = plt.plot(years, unewhite['Unemployment Rate'], color= 'indigo', label = \"Unemployment=Caucasian\", linewidth=2)\n",
    "\n",
    "#setting properties \n",
    "plt.yticks(np.arange(round(unemployment_df['Unemployment Rate'].min()), \n",
    "                     round(unemployment_df['Unemployment Rate'].max()) +1, 2.0))  \n",
    "plt.xticks(rotation=45)\n",
    "plt.title(\"US Unemployment Rate - Long Term and by Ethnic Group\")  \n",
    "\n",
    "#set legend outside of box \n",
    "plt.legend(bbox_to_anchor=(1.05, 1),handles=[total, afam, hisp, asian, white])\n",
    "plt.figure(figsize=(20,30)) \n",
    "plt.tight_layout() \n",
    "plt.show()"
   ]
  },
  {
   "cell_type": "code",
   "execution_count": null,
   "metadata": {},
   "outputs": [],
   "source": [
    "#Observations\n",
    "#With the pandemic, \n",
    "#1. Long-term unemployment (people who are out of work 27 weeks or longer as a percent of total unemployed) \n",
    "#   have increased 8-fold.\n",
    "#2. The Hispanic/Latino community had the highest unemployment at the onset of the pandemic, but has seen the\n",
    "#   most dramatic improvement since.\n",
    "#3. The African-American group continues to be the most impacted by the pandemic."
   ]
  }
 ],
 "metadata": {
  "kernelspec": {
   "display_name": "Python 3",
   "language": "python",
   "name": "python3"
  },
  "language_info": {
   "codemirror_mode": {
    "name": "ipython",
    "version": 3
   },
   "file_extension": ".py",
   "mimetype": "text/x-python",
   "name": "python",
   "nbconvert_exporter": "python",
   "pygments_lexer": "ipython3",
   "version": "3.8.3"
  }
 },
 "nbformat": 4,
 "nbformat_minor": 4
}
