{
 "cells": [
  {
   "cell_type": "code",
   "execution_count": 1,
   "metadata": {},
   "outputs": [],
   "source": [
    "#Observations\n",
    "#With the pandemic, \n",
    "#1. Long-term unemployment (people who are out of work 27 weeks or longer as a percent of total unemployed) \n",
    "#   has increased 8-fold.\n",
    "#2. The Hispanic/Latino community had the highest unemployment at the onset of the pandemic, but has seen the\n",
    "#   most dramatic improvement since.\n",
    "#3. The African-American group continues to be the most impacted by the pandemic.\n",
    "#4. It should come as no surprise that unemployment, during periods where there is an extraneous shock to the system \n",
    "#   such as the pandemic, is reflected as an outlier.  \n",
    "#   The question is whether the outlier sets the new boundaries over time."
   ]
  },
  {
   "cell_type": "code",
   "execution_count": 2,
   "metadata": {},
   "outputs": [],
   "source": [
    "#load modules\n",
    "# Dependencies and Setup\n",
    "import matplotlib.pyplot as plt\n",
    "import pandas as pd\n",
    "import scipy.stats as st\n",
    "import numpy as np\n",
    "import json \n",
    "import requests\n",
    "from config import api_key\n"
   ]
  },
  {
   "cell_type": "code",
   "execution_count": 3,
   "metadata": {},
   "outputs": [],
   "source": [
    "#BLS url\n",
    "endpoint = 'https://api.bls.gov/publicAPI/v2/timeseries/data/'\n",
    "\n",
    "#timeseries of monthly unemployment data to query\n",
    "series = ['LNS14000000','LNS14000006','LNS14000009','LNS14032183','LNS14000003','LNS13025703'] \n",
    "startyear = '2018'\n",
    "endyear = '2020'\n",
    "\n",
    "\n",
    "#setup json request\n",
    "headers = {'Content-type': 'application/json'}\n",
    "data = json.dumps(\n",
    "    {\"seriesid\": series,\n",
    "     \"registrationkey\": api_key,\n",
    "     \"startyear\":startyear, \n",
    "     \"endyear\":endyear})\n",
    "\n",
    "stat = requests.post(endpoint, data=data, headers=headers)\n",
    "stat_data = json.loads(stat.text)\n",
    "#stat = requests.post(endpoint, data=data, headers=headers)\n",
    "\n",
    "\n",
    "#setup lists to hold stats\n",
    "seriesid = []\n",
    "year= []\n",
    "period = []\n",
    "periodName = []\n",
    "value = []\n",
    "\n",
    "for series in stat_data['Results']['series']:\n",
    "    seriesId = series['seriesID']\n",
    "    for data in series['data']:\n",
    "        year.append(data['year'])\n",
    "        period.append(data['period'])\n",
    "        periodName.append(data['periodName'])\n",
    "        value.append(data['value'])\n",
    "        seriesid.append(series['seriesID'])\n",
    " "
   ]
  },
  {
   "cell_type": "code",
   "execution_count": 4,
   "metadata": {},
   "outputs": [
    {
     "data": {
      "text/html": [
       "<div>\n",
       "<style scoped>\n",
       "    .dataframe tbody tr th:only-of-type {\n",
       "        vertical-align: middle;\n",
       "    }\n",
       "\n",
       "    .dataframe tbody tr th {\n",
       "        vertical-align: top;\n",
       "    }\n",
       "\n",
       "    .dataframe thead th {\n",
       "        text-align: right;\n",
       "    }\n",
       "</style>\n",
       "<table border=\"1\" class=\"dataframe\">\n",
       "  <thead>\n",
       "    <tr style=\"text-align: right;\">\n",
       "      <th></th>\n",
       "      <th>Series</th>\n",
       "      <th>Year</th>\n",
       "      <th>Month Code</th>\n",
       "      <th>Month</th>\n",
       "      <th>Unemployment Rate</th>\n",
       "    </tr>\n",
       "  </thead>\n",
       "  <tbody>\n",
       "    <tr>\n",
       "      <th>0</th>\n",
       "      <td>LNS14000000</td>\n",
       "      <td>2020</td>\n",
       "      <td>M10</td>\n",
       "      <td>October</td>\n",
       "      <td>6.9</td>\n",
       "    </tr>\n",
       "    <tr>\n",
       "      <th>1</th>\n",
       "      <td>LNS14000000</td>\n",
       "      <td>2020</td>\n",
       "      <td>M09</td>\n",
       "      <td>September</td>\n",
       "      <td>7.9</td>\n",
       "    </tr>\n",
       "    <tr>\n",
       "      <th>2</th>\n",
       "      <td>LNS14000000</td>\n",
       "      <td>2020</td>\n",
       "      <td>M08</td>\n",
       "      <td>August</td>\n",
       "      <td>8.4</td>\n",
       "    </tr>\n",
       "    <tr>\n",
       "      <th>3</th>\n",
       "      <td>LNS14000000</td>\n",
       "      <td>2020</td>\n",
       "      <td>M07</td>\n",
       "      <td>July</td>\n",
       "      <td>10.2</td>\n",
       "    </tr>\n",
       "    <tr>\n",
       "      <th>4</th>\n",
       "      <td>LNS14000000</td>\n",
       "      <td>2020</td>\n",
       "      <td>M06</td>\n",
       "      <td>June</td>\n",
       "      <td>11.1</td>\n",
       "    </tr>\n",
       "  </tbody>\n",
       "</table>\n",
       "</div>"
      ],
      "text/plain": [
       "        Series  Year Month Code      Month Unemployment Rate\n",
       "0  LNS14000000  2020        M10    October               6.9\n",
       "1  LNS14000000  2020        M09  September               7.9\n",
       "2  LNS14000000  2020        M08     August               8.4\n",
       "3  LNS14000000  2020        M07       July              10.2\n",
       "4  LNS14000000  2020        M06       June              11.1"
      ]
     },
     "execution_count": 4,
     "metadata": {},
     "output_type": "execute_result"
    }
   ],
   "source": [
    "#create dataframe\n",
    "unemployment_df = pd.DataFrame({\n",
    "    \"Series\":seriesid,\n",
    "    \"Year\": year,\n",
    "    \"Month Code\": period,\n",
    "    \"Month\": periodName,\n",
    "    \"Unemployment Rate\": value\n",
    "})\n",
    "\n",
    "unemployment_df.head()"
   ]
  },
  {
   "cell_type": "code",
   "execution_count": 5,
   "metadata": {},
   "outputs": [
    {
     "data": {
      "text/plain": [
       "(        Series  Year Month Code     Month  Unemployment Rate   Mth/Year\n",
       " 0  LNS13025703  2018        M01   January               21.9 2018-01-01\n",
       " 1  LNS13025703  2018        M02  February               21.2 2018-02-01\n",
       " 2  LNS13025703  2018        M03     March               20.6 2018-03-01\n",
       " 3  LNS13025703  2018        M04     April               20.4 2018-04-01\n",
       " 4  LNS13025703  2018        M05       May               19.4 2018-05-01,\n",
       " 2.1,\n",
       " 32.5)"
      ]
     },
     "execution_count": 5,
     "metadata": {},
     "output_type": "execute_result"
    }
   ],
   "source": [
    "#Add combined Mth and Year column\n",
    "unemployment_df['Mth/Year'] = pd.to_datetime(unemployment_df['Month'].astype(str)+unemployment_df['Year'], format='%B%Y')\n",
    "\n",
    "#convert Unemployment Rate to numeric to get max and min\n",
    "unemployment_df['Unemployment Rate'] = pd.to_numeric(unemployment_df['Unemployment Rate'])\n",
    "\n",
    "#sort values\n",
    "unemployment_df = unemployment_df.sort_values(by=['Series','Mth/Year'], ascending=[True,True], inplace=False, ignore_index=True)\n",
    "\n",
    "#verify sort and check min, max\n",
    "unemployment_df.head(), unemployment_df['Unemployment Rate'].min(), unemployment_df['Unemployment Rate'].max()"
   ]
  },
  {
   "cell_type": "code",
   "execution_count": 6,
   "metadata": {},
   "outputs": [
    {
     "data": {
      "text/html": [
       "<div>\n",
       "<style scoped>\n",
       "    .dataframe tbody tr th:only-of-type {\n",
       "        vertical-align: middle;\n",
       "    }\n",
       "\n",
       "    .dataframe tbody tr th {\n",
       "        vertical-align: top;\n",
       "    }\n",
       "\n",
       "    .dataframe thead th {\n",
       "        text-align: right;\n",
       "    }\n",
       "</style>\n",
       "<table border=\"1\" class=\"dataframe\">\n",
       "  <thead>\n",
       "    <tr style=\"text-align: right;\">\n",
       "      <th></th>\n",
       "      <th>Series</th>\n",
       "      <th>Month Code</th>\n",
       "      <th>Unemployment Rate</th>\n",
       "      <th>Mth/Year</th>\n",
       "    </tr>\n",
       "  </thead>\n",
       "  <tbody>\n",
       "    <tr>\n",
       "      <th>0</th>\n",
       "      <td>LNS13025703</td>\n",
       "      <td>M01</td>\n",
       "      <td>21.9</td>\n",
       "      <td>2018-01-01</td>\n",
       "    </tr>\n",
       "    <tr>\n",
       "      <th>1</th>\n",
       "      <td>LNS13025703</td>\n",
       "      <td>M02</td>\n",
       "      <td>21.2</td>\n",
       "      <td>2018-02-01</td>\n",
       "    </tr>\n",
       "    <tr>\n",
       "      <th>2</th>\n",
       "      <td>LNS13025703</td>\n",
       "      <td>M03</td>\n",
       "      <td>20.6</td>\n",
       "      <td>2018-03-01</td>\n",
       "    </tr>\n",
       "    <tr>\n",
       "      <th>3</th>\n",
       "      <td>LNS13025703</td>\n",
       "      <td>M04</td>\n",
       "      <td>20.4</td>\n",
       "      <td>2018-04-01</td>\n",
       "    </tr>\n",
       "    <tr>\n",
       "      <th>4</th>\n",
       "      <td>LNS13025703</td>\n",
       "      <td>M05</td>\n",
       "      <td>19.4</td>\n",
       "      <td>2018-05-01</td>\n",
       "    </tr>\n",
       "  </tbody>\n",
       "</table>\n",
       "</div>"
      ],
      "text/plain": [
       "        Series Month Code  Unemployment Rate   Mth/Year\n",
       "0  LNS13025703        M01               21.9 2018-01-01\n",
       "1  LNS13025703        M02               21.2 2018-02-01\n",
       "2  LNS13025703        M03               20.6 2018-03-01\n",
       "3  LNS13025703        M04               20.4 2018-04-01\n",
       "4  LNS13025703        M05               19.4 2018-05-01"
      ]
     },
     "execution_count": 6,
     "metadata": {},
     "output_type": "execute_result"
    }
   ],
   "source": [
    "#drop Month and Year\n",
    "unemployment_df = unemployment_df[['Series', 'Month Code', 'Unemployment Rate', 'Mth/Year']]\n",
    "\n",
    "unemployment_df.head()"
   ]
  },
  {
   "cell_type": "code",
   "execution_count": 7,
   "metadata": {},
   "outputs": [],
   "source": [
    "#series description\n",
    "#'LNS14000000' is 'Unemployment Rate'\n",
    "#'LNS14000006' is 'Unemployment-AfricanAmerican'\n",
    "#'LNS14000009' is 'Unemployment-Hispanic'\n",
    "#'LNS14032183' is 'Unemployment-Asian'\n",
    "#'LNS14000003' is 'Unemployment-White'\n",
    "#'LNS13025703' is 'Long-Term Unemployment Rate'"
   ]
  },
  {
   "cell_type": "code",
   "execution_count": 8,
   "metadata": {},
   "outputs": [],
   "source": [
    "#Isolating the unemployment rate\n",
    "unerate = unemployment_df.loc[unemployment_df['Series'] == 'LNS14000000',:]\n",
    "uneafam = unemployment_df.loc[unemployment_df['Series'] == 'LNS14000006',:]\n",
    "unehisp = unemployment_df.loc[unemployment_df['Series'] == 'LNS14000009',:]\n",
    "uneasian = unemployment_df.loc[unemployment_df['Series'] =='LNS14032183',:]\n",
    "unewhite = unemployment_df.loc[unemployment_df['Series'] =='LNS14000003',:]\n",
    "ltunemp = unemployment_df.loc[unemployment_df['Series'] == 'LNS13025703',:]\n"
   ]
  },
  {
   "cell_type": "code",
   "execution_count": 16,
   "metadata": {
    "scrolled": false
   },
   "outputs": [
    {
     "data": {
      "image/png": "[encoded data removed]",
      "text/plain": [
       "<Figure size 720x288 with 1 Axes>"
      ]
     },
     "metadata": {
      "needs_background": "light"
     },
     "output_type": "display_data"
    }
   ],
   "source": [
    "#line graph of x and y axis\n",
    "plt.figure(figsize=(10,4))\n",
    "\n",
    "#setting x axis \n",
    "years = ltunemp['Mth/Year']\n",
    "\n",
    "#setting y axis \n",
    "total, = plt.plot(years, ltunemp['Unemployment Rate'], color='red', label = 'Long-Term Unemployment',linewidth =1, linestyle = '--') \n",
    "afam, = plt.plot(years, uneafam['Unemployment Rate'], color= 'orange', label = \"Unemployment=African American\", linewidth=1) \n",
    "hisp, = plt.plot(years, unehisp['Unemployment Rate'], color= 'green', label = \"Unemployment=Hispanic/Latino\", linewidth=1) \n",
    "asian, = plt.plot(years, uneasian['Unemployment Rate'], color= 'indigo', label = \"Unemployment=Asian\", linewidth=1) \n",
    "white, = plt.plot(years, unewhite['Unemployment Rate'], color= 'blue', label = \"Unemployment=Caucasian\", linewidth=1)\n",
    "\n",
    "#setting properties \n",
    "plt.yticks(np.arange(round(unemployment_df['Unemployment Rate'].min()), \n",
    "                     round(unemployment_df['Unemployment Rate'].max()) +1, 2.0))  \n",
    "plt.xticks(rotation=45)\n",
    "plt.title(\"US Unemployment Rate - Long Term and by Ethnic Group\")  \n",
    "\n",
    "#set legend outside of box \n",
    "plt.legend(bbox_to_anchor=(1.05, 1),handles=[total, afam, hisp, asian, white])\n",
    " \n",
    "plt.tight_layout() \n",
    "plt.show()"
   ]
  },
  {
   "cell_type": "code",
   "execution_count": 10,
   "metadata": {},
   "outputs": [
    {
     "data": {
      "text/plain": [
       "[4.1, 5.6, 7.9, 9.2, 12.0, 32.5]"
      ]
     },
     "execution_count": 10,
     "metadata": {},
     "output_type": "execute_result"
    }
   ],
   "source": [
    "# Calculate the IQR and quantitatively determine if there are any potential outliers. \n",
    "# Determine outliers using upper and lower bounds\n",
    "\n",
    "#LT unemployment\n",
    "ltrate = pd.Series(ltunemp['Unemployment Rate'])\n",
    "\n",
    "#IQR\n",
    "ltquartiles = ltrate.quantile([0.25,0.5,0.75])\n",
    "ltlowerq = ltquartiles[0.25]\n",
    "ltupperq = ltquartiles[0.75]\n",
    "ltiqr = ltupperq - ltlowerq\n",
    "ltlower_bound = ltlowerq - (1.5 * ltiqr)\n",
    "ltupper_bound = ltupperq + (1.5 * ltiqr)\n",
    "\n",
    "#outliers\n",
    "ltoutliers = [rate for rate in ltrate if rate < ltlower_bound or rate > ltupper_bound]\n",
    "\n",
    "len(ltoutliers)\n",
    "ltoutliers_distinct = list(set(ltoutliers))\n",
    "len(ltoutliers_distinct)\n",
    "ltoutliers_distinct.sort()\n",
    "ltoutliers_distinct  \n",
    "\n",
    "ltoutliers_distinct"
   ]
  },
  {
   "cell_type": "code",
   "execution_count": 11,
   "metadata": {},
   "outputs": [
    {
     "data": {
      "text/plain": [
       "[10.8, 12.1, 13.0, 14.6, 15.4, 16.7, 16.8]"
      ]
     },
     "execution_count": 11,
     "metadata": {},
     "output_type": "execute_result"
    }
   ],
   "source": [
    "# Calculate the IQR and quantitatively determine if there are any potential outliers. \n",
    "# Determine outliers using upper and lower bounds\n",
    "\n",
    "#LT unemployment\n",
    "afrate = pd.Series(uneafam['Unemployment Rate'])\n",
    "\n",
    "#IQR\n",
    "afquartiles = afrate.quantile([0.25,0.5,0.75])\n",
    "aflowerq = afquartiles[0.25]\n",
    "afupperq = afquartiles[0.75]\n",
    "afiqr = afupperq - aflowerq\n",
    "aflower_bound = aflowerq - (1.5 * afiqr)\n",
    "afupper_bound = afupperq + (1.5 * afiqr)\n",
    "\n",
    "#outliers\n",
    "afoutliers = [rate for rate in afrate if rate < aflower_bound or rate > afupper_bound]\n",
    "\n",
    "len(afoutliers)\n",
    "afoutliers_distinct = list(set(afoutliers))\n",
    "len(afoutliers_distinct)\n",
    "afoutliers_distinct.sort()\n",
    "afoutliers_distinct  \n",
    "\n",
    "afoutliers_distinct"
   ]
  },
  {
   "cell_type": "code",
   "execution_count": 12,
   "metadata": {},
   "outputs": [
    {
     "data": {
      "text/plain": [
       "[8.8, 10.3, 10.5, 12.9, 14.5, 17.6, 18.9]"
      ]
     },
     "execution_count": 12,
     "metadata": {},
     "output_type": "execute_result"
    }
   ],
   "source": [
    "# Calculate the IQR and quantitatively determine if there are any potential outliers. \n",
    "# Determine outliers using upper and lower bounds\n",
    "\n",
    "#LT unemployment\n",
    "hprate = pd.Series(unehisp['Unemployment Rate'])\n",
    "\n",
    "#IQR\n",
    "hpquartiles = hprate.quantile([0.25,0.5,0.75])\n",
    "hplowerq = hpquartiles[0.25]\n",
    "hpupperq = hpquartiles[0.75]\n",
    "hpiqr = hpupperq - hplowerq\n",
    "hplower_bound = hplowerq - (1.5 * hpiqr)\n",
    "hpupper_bound = hpupperq + (1.5 * hpiqr)\n",
    "\n",
    "#outliers\n",
    "hpoutliers = [rate for rate in hprate if rate < hplower_bound or rate > hpupper_bound]\n",
    "\n",
    "len(hpoutliers)\n",
    "hpoutliers_distinct = list(set(hpoutliers))\n",
    "len(hpoutliers_distinct)\n",
    "hpoutliers_distinct.sort()\n",
    "hpoutliers_distinct  \n",
    "\n",
    "hpoutliers_distinct"
   ]
  },
  {
   "cell_type": "code",
   "execution_count": 13,
   "metadata": {},
   "outputs": [
    {
     "data": {
      "text/plain": [
       "[7.6, 8.9, 10.7, 12.0, 13.8, 14.5, 15.0]"
      ]
     },
     "execution_count": 13,
     "metadata": {},
     "output_type": "execute_result"
    }
   ],
   "source": [
    "# Calculate the IQR and quantitatively determine if there are any potential outliers. \n",
    "# Determine outliers using upper and lower bounds\n",
    "\n",
    "#LT unemployment\n",
    "asrate = pd.Series(uneasian['Unemployment Rate'])\n",
    "\n",
    "#IQR\n",
    "asquartiles = asrate.quantile([0.25,0.5,0.75])\n",
    "aslowerq = asquartiles[0.25]\n",
    "asupperq = asquartiles[0.75]\n",
    "asiqr = asupperq - aslowerq\n",
    "aslower_bound = aslowerq - (1.5 * asiqr)\n",
    "asupper_bound = asupperq + (1.5 * asiqr)\n",
    "\n",
    "#outliers\n",
    "asoutliers = [rate for rate in asrate if rate < aslower_bound or rate > asupper_bound]\n",
    "\n",
    "len(asoutliers)\n",
    "asoutliers_distinct = list(set(asoutliers))\n",
    "len(asoutliers_distinct)\n",
    "asoutliers_distinct.sort()\n",
    "asoutliers_distinct  \n",
    "\n",
    "asoutliers_distinct"
   ]
  },
  {
   "cell_type": "code",
   "execution_count": 14,
   "metadata": {},
   "outputs": [
    {
     "data": {
      "text/plain": [
       "[6.0, 7.0, 7.3, 9.2, 10.1, 12.4, 14.2]"
      ]
     },
     "execution_count": 14,
     "metadata": {},
     "output_type": "execute_result"
    }
   ],
   "source": [
    "# Calculate the IQR and quantitatively determine if there are any potential outliers. \n",
    "# Determine outliers using upper and lower bounds\n",
    "\n",
    "#LT unemployment\n",
    "wtrate = pd.Series(unewhite['Unemployment Rate'])\n",
    "\n",
    "#IQR\n",
    "wtquartiles = wtrate.quantile([0.25,0.5,0.75])\n",
    "wtlowerq = wtquartiles[0.25]\n",
    "wtupperq = wtquartiles[0.75]\n",
    "wtiqr = wtupperq - wtlowerq\n",
    "wtlower_bound = wtlowerq - (1.5 * wtiqr)\n",
    "wtupper_bound = wtupperq + (1.5 * wtiqr)\n",
    "\n",
    "#outliers\n",
    "wtoutliers = [rate for rate in wtrate if rate < wtlower_bound or rate > wtupper_bound]\n",
    "\n",
    "len(wtoutliers)\n",
    "wtoutliers_distinct = list(set(wtoutliers))\n",
    "len(wtoutliers_distinct)\n",
    "wtoutliers_distinct.sort()\n",
    "wtoutliers_distinct  \n",
    "\n",
    "wtoutliers_distinct"
   ]
  },
  {
   "cell_type": "code",
   "execution_count": 15,
   "metadata": {},
   "outputs": [
    {
     "data": {
      "image/png": "[encoded data removed]",
      "text/plain": [
       "<Figure size 432x288 with 1 Axes>"
      ]
     },
     "metadata": {
      "needs_background": "light"
     },
     "output_type": "display_data"
    }
   ],
   "source": [
    "# Generate a box plot of the final tumor volume of each mouse across four regimens of interest\n",
    "fig1, ax1 = plt.subplots()\n",
    "ax1.set_title('Unemployment Rate - Long Term vs Ethnic Groups')\n",
    "ax1.set_ylabel('Unemployment Rate')\n",
    "ax1.boxplot([ltrate,afrate, hprate, asrate, wtrate], showfliers=True)\n",
    "plt.xticks([1,2,3,4,5],['Long Term',\"Afr/Amer\", 'Hispanic','Asian','Caucasian'])\n",
    "plt.show()"
   ]
  },
  {
   "cell_type": "code",
   "execution_count": null,
   "metadata": {},
   "outputs": [],
   "source": []
  }
 ],
 "metadata": {
  "kernelspec": {
   "display_name": "Python 3",
   "language": "python",
   "name": "python3"
  },
  "language_info": {
   "codemirror_mode": {
    "name": "ipython",
    "version": 3
   },
   "file_extension": ".py",
   "mimetype": "text/x-python",
   "name": "python",
   "nbconvert_exporter": "python",
   "pygments_lexer": "ipython3",
   "version": "3.8.3"
  }
 },
 "nbformat": 4,
 "nbformat_minor": 4
}
